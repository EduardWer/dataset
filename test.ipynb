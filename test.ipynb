{
 "cells": [
  {
   "cell_type": "markdown",
   "source": [
    "Цель: реализовать базовый анализ датасета:Датасеты не должны повторяться\n",
    "Вывести весь датасет и опишите его\n",
    "Вывести размерноть массива\n",
    "Вывести наименование всех колонок, написать что они означают в вашем датасете\n",
    "Вывести все уникальные значения\n",
    "Отсортировать по определенным параметрам\n",
    "Удалить ненужные столбцы или строчки \n",
    "Заменить определенные значения в датасете (например, пустые)\n",
    "Удалить дубликаты\n",
    "Провести анализ с помощью функций info\n",
    "Провести анализ с помощью функций describe\n",
    "Провести выборку данных по строкам и столбцам с помощью loc\n",
    "Сохранить новый датасет\n",
    "Сделать вывод по каждому пункту и описать все"
   ],
   "metadata": {
    "collapsed": false
   },
   "id": "9205111dfa634bc7"
  },
  {
   "cell_type": "code",
   "execution_count": 1,
   "outputs": [
    {
     "name": "stdout",
     "output_type": "stream",
     "text": [
      "   CustomerID   Genre  Age  Annual Income (k$)  Spending Score (1-100)\n",
      "0           1    Male   19                  15                      39\n",
      "1           2    Male   21                  15                      81\n",
      "2           3  Female   20                  16                       6\n",
      "3           4  Female   23                  16                      77\n",
      "4           5  Female   31                  17                      40\n"
     ]
    }
   ],
   "source": [
    "import pandas as pd\n",
    "\n",
    "\n",
    "data = pd.read_csv(\"Mall_Customers.csv\") # конект к файлу\n",
    "\n",
    "print(data.head()) "
   ],
   "metadata": {
    "collapsed": false,
    "ExecuteTime": {
     "start_time": "2023-12-20T10:02:09.718913500Z"
    }
   },
   "id": "initial_id"
  },
  {
   "cell_type": "markdown",
   "source": [
    "выводит первые 5 строчек dataseta"
   ],
   "metadata": {
    "collapsed": false
   },
   "id": "40da5607ad24dcd"
  },
  {
   "cell_type": "code",
   "execution_count": 2,
   "outputs": [
    {
     "name": "stdout",
     "output_type": "stream",
     "text": [
      "     CustomerID   Genre  Age  Annual Income (k$)  Spending Score (1-100)\n",
      "195         196  Female   35                 120                      79\n",
      "196         197  Female   45                 126                      28\n",
      "197         198    Male   32                 126                      74\n",
      "198         199    Male   32                 137                      18\n",
      "199         200    Male   30                 137                      83\n"
     ]
    }
   ],
   "source": [
    "print(data.tail()) "
   ],
   "metadata": {
    "collapsed": false,
    "ExecuteTime": {
     "start_time": "2023-12-20T10:03:27.824535300Z"
    }
   },
   "id": "55a8269545094ad6"
  },
  {
   "cell_type": "markdown",
   "source": [
    "Выводит последние 5 строк dataseta"
   ],
   "metadata": {
    "collapsed": false
   },
   "id": "ee02526309264a"
  },
  {
   "cell_type": "code",
   "execution_count": 3,
   "outputs": [
    {
     "name": "stdout",
     "output_type": "stream",
     "text": [
      "<class 'pandas.core.frame.DataFrame'>\n",
      "RangeIndex: 200 entries, 0 to 199\n",
      "Data columns (total 5 columns):\n",
      " #   Column                  Non-Null Count  Dtype \n",
      "---  ------                  --------------  ----- \n",
      " 0   CustomerID              200 non-null    int64 \n",
      " 1   Genre                   200 non-null    object\n",
      " 2   Age                     200 non-null    int64 \n",
      " 3   Annual Income (k$)      200 non-null    int64 \n",
      " 4   Spending Score (1-100)  200 non-null    int64 \n",
      "dtypes: int64(4), object(1)\n",
      "memory usage: 7.9+ KB\n",
      "None\n"
     ]
    }
   ],
   "source": [
    "print(data.info()) "
   ],
   "metadata": {
    "collapsed": false,
    "ExecuteTime": {
     "end_time": "2023-12-20T10:05:19.363947200Z",
     "start_time": "2023-12-20T10:05:19.283637800Z"
    }
   },
   "id": "d0cfc86a722c1c5a"
  },
  {
   "cell_type": "markdown",
   "source": [
    "Выводит всю возможную информацию "
   ],
   "metadata": {
    "collapsed": false
   },
   "id": "ea4a6b0c29817c00"
  },
  {
   "cell_type": "code",
   "execution_count": 4,
   "outputs": [
    {
     "name": "stdout",
     "output_type": "stream",
     "text": [
      "Index(['CustomerID', 'Genre', 'Age', 'Annual Income (k$)',\n",
      "       'Spending Score (1-100)'],\n",
      "      dtype='object')\n"
     ]
    }
   ],
   "source": [
    "print(data.columns) "
   ],
   "metadata": {
    "collapsed": false,
    "ExecuteTime": {
     "end_time": "2023-12-20T10:06:35.138972Z",
     "start_time": "2023-12-20T10:06:35.092639200Z"
    }
   },
   "id": "3eb7dda8cd9ead5a"
  },
  {
   "cell_type": "markdown",
   "source": [
    "Выводит лист с названиями колоннок в atasete \n"
   ],
   "metadata": {
    "collapsed": false
   },
   "id": "a107c58d4a4cc227"
  },
  {
   "cell_type": "code",
   "execution_count": 5,
   "outputs": [
    {
     "data": {
      "text/plain": "array([[1, 'Male', 19, 15, 39],\n       [2, 'Male', 21, 15, 81],\n       [3, 'Female', 20, 16, 6],\n       [4, 'Female', 23, 16, 77],\n       [5, 'Female', 31, 17, 40],\n       [6, 'Female', 22, 17, 76],\n       [7, 'Female', 35, 18, 6],\n       [8, 'Female', 23, 18, 94],\n       [9, 'Male', 64, 19, 3],\n       [10, 'Female', 30, 19, 72],\n       [11, 'Male', 67, 19, 14],\n       [12, 'Female', 35, 19, 99],\n       [13, 'Female', 58, 20, 15],\n       [14, 'Female', 24, 20, 77],\n       [15, 'Male', 37, 20, 13],\n       [16, 'Male', 22, 20, 79],\n       [17, 'Female', 35, 21, 35],\n       [18, 'Male', 20, 21, 66],\n       [19, 'Male', 52, 23, 29],\n       [20, 'Female', 35, 23, 98],\n       [21, 'Male', 35, 24, 35],\n       [22, 'Male', 25, 24, 73],\n       [23, 'Female', 46, 25, 5],\n       [24, 'Male', 31, 25, 73],\n       [25, 'Female', 54, 28, 14],\n       [26, 'Male', 29, 28, 82],\n       [27, 'Female', 45, 28, 32],\n       [28, 'Male', 35, 28, 61],\n       [29, 'Female', 40, 29, 31],\n       [30, 'Female', 23, 29, 87],\n       [31, 'Male', 60, 30, 4],\n       [32, 'Female', 21, 30, 73],\n       [33, 'Male', 53, 33, 4],\n       [34, 'Male', 18, 33, 92],\n       [35, 'Female', 49, 33, 14],\n       [36, 'Female', 21, 33, 81],\n       [37, 'Female', 42, 34, 17],\n       [38, 'Female', 30, 34, 73],\n       [39, 'Female', 36, 37, 26],\n       [40, 'Female', 20, 37, 75],\n       [41, 'Female', 65, 38, 35],\n       [42, 'Male', 24, 38, 92],\n       [43, 'Male', 48, 39, 36],\n       [44, 'Female', 31, 39, 61],\n       [45, 'Female', 49, 39, 28],\n       [46, 'Female', 24, 39, 65],\n       [47, 'Female', 50, 40, 55],\n       [48, 'Female', 27, 40, 47],\n       [49, 'Female', 29, 40, 42],\n       [50, 'Female', 31, 40, 42],\n       [51, 'Female', 49, 42, 52],\n       [52, 'Male', 33, 42, 60],\n       [53, 'Female', 31, 43, 54],\n       [54, 'Male', 59, 43, 60],\n       [55, 'Female', 50, 43, 45],\n       [56, 'Male', 47, 43, 41],\n       [57, 'Female', 51, 44, 50],\n       [58, 'Male', 69, 44, 46],\n       [59, 'Female', 27, 46, 51],\n       [60, 'Male', 53, 46, 46],\n       [61, 'Male', 70, 46, 56],\n       [62, 'Male', 19, 46, 55],\n       [63, 'Female', 67, 47, 52],\n       [64, 'Female', 54, 47, 59],\n       [65, 'Male', 63, 48, 51],\n       [66, 'Male', 18, 48, 59],\n       [67, 'Female', 43, 48, 50],\n       [68, 'Female', 68, 48, 48],\n       [69, 'Male', 19, 48, 59],\n       [70, 'Female', 32, 48, 47],\n       [71, 'Male', 70, 49, 55],\n       [72, 'Female', 47, 49, 42],\n       [73, 'Female', 60, 50, 49],\n       [74, 'Female', 60, 50, 56],\n       [75, 'Male', 59, 54, 47],\n       [76, 'Male', 26, 54, 54],\n       [77, 'Female', 45, 54, 53],\n       [78, 'Male', 40, 54, 48],\n       [79, 'Female', 23, 54, 52],\n       [80, 'Female', 49, 54, 42],\n       [81, 'Male', 57, 54, 51],\n       [82, 'Male', 38, 54, 55],\n       [83, 'Male', 67, 54, 41],\n       [84, 'Female', 46, 54, 44],\n       [85, 'Female', 21, 54, 57],\n       [86, 'Male', 48, 54, 46],\n       [87, 'Female', 55, 57, 58],\n       [88, 'Female', 22, 57, 55],\n       [89, 'Female', 34, 58, 60],\n       [90, 'Female', 50, 58, 46],\n       [91, 'Female', 68, 59, 55],\n       [92, 'Male', 18, 59, 41],\n       [93, 'Male', 48, 60, 49],\n       [94, 'Female', 40, 60, 40],\n       [95, 'Female', 32, 60, 42],\n       [96, 'Male', 24, 60, 52],\n       [97, 'Female', 47, 60, 47],\n       [98, 'Female', 27, 60, 50],\n       [99, 'Male', 48, 61, 42],\n       [100, 'Male', 20, 61, 49],\n       [101, 'Female', 23, 62, 41],\n       [102, 'Female', 49, 62, 48],\n       [103, 'Male', 67, 62, 59],\n       [104, 'Male', 26, 62, 55],\n       [105, 'Male', 49, 62, 56],\n       [106, 'Female', 21, 62, 42],\n       [107, 'Female', 66, 63, 50],\n       [108, 'Male', 54, 63, 46],\n       [109, 'Male', 68, 63, 43],\n       [110, 'Male', 66, 63, 48],\n       [111, 'Male', 65, 63, 52],\n       [112, 'Female', 19, 63, 54],\n       [113, 'Female', 38, 64, 42],\n       [114, 'Male', 19, 64, 46],\n       [115, 'Female', 18, 65, 48],\n       [116, 'Female', 19, 65, 50],\n       [117, 'Female', 63, 65, 43],\n       [118, 'Female', 49, 65, 59],\n       [119, 'Female', 51, 67, 43],\n       [120, 'Female', 50, 67, 57],\n       [121, 'Male', 27, 67, 56],\n       [122, 'Female', 38, 67, 40],\n       [123, 'Female', 40, 69, 58],\n       [124, 'Male', 39, 69, 91],\n       [125, 'Female', 23, 70, 29],\n       [126, 'Female', 31, 70, 77],\n       [127, 'Male', 43, 71, 35],\n       [128, 'Male', 40, 71, 95],\n       [129, 'Male', 59, 71, 11],\n       [130, 'Male', 38, 71, 75],\n       [131, 'Male', 47, 71, 9],\n       [132, 'Male', 39, 71, 75],\n       [133, 'Female', 25, 72, 34],\n       [134, 'Female', 31, 72, 71],\n       [135, 'Male', 20, 73, 5],\n       [136, 'Female', 29, 73, 88],\n       [137, 'Female', 44, 73, 7],\n       [138, 'Male', 32, 73, 73],\n       [139, 'Male', 19, 74, 10],\n       [140, 'Female', 35, 74, 72],\n       [141, 'Female', 57, 75, 5],\n       [142, 'Male', 32, 75, 93],\n       [143, 'Female', 28, 76, 40],\n       [144, 'Female', 32, 76, 87],\n       [145, 'Male', 25, 77, 12],\n       [146, 'Male', 28, 77, 97],\n       [147, 'Male', 48, 77, 36],\n       [148, 'Female', 32, 77, 74],\n       [149, 'Female', 34, 78, 22],\n       [150, 'Male', 34, 78, 90],\n       [151, 'Male', 43, 78, 17],\n       [152, 'Male', 39, 78, 88],\n       [153, 'Female', 44, 78, 20],\n       [154, 'Female', 38, 78, 76],\n       [155, 'Female', 47, 78, 16],\n       [156, 'Female', 27, 78, 89],\n       [157, 'Male', 37, 78, 1],\n       [158, 'Female', 30, 78, 78],\n       [159, 'Male', 34, 78, 1],\n       [160, 'Female', 30, 78, 73],\n       [161, 'Female', 56, 79, 35],\n       [162, 'Female', 29, 79, 83],\n       [163, 'Male', 19, 81, 5],\n       [164, 'Female', 31, 81, 93],\n       [165, 'Male', 50, 85, 26],\n       [166, 'Female', 36, 85, 75],\n       [167, 'Male', 42, 86, 20],\n       [168, 'Female', 33, 86, 95],\n       [169, 'Female', 36, 87, 27],\n       [170, 'Male', 32, 87, 63],\n       [171, 'Male', 40, 87, 13],\n       [172, 'Male', 28, 87, 75],\n       [173, 'Male', 36, 87, 10],\n       [174, 'Male', 36, 87, 92],\n       [175, 'Female', 52, 88, 13],\n       [176, 'Female', 30, 88, 86],\n       [177, 'Male', 58, 88, 15],\n       [178, 'Male', 27, 88, 69],\n       [179, 'Male', 59, 93, 14],\n       [180, 'Male', 35, 93, 90],\n       [181, 'Female', 37, 97, 32],\n       [182, 'Female', 32, 97, 86],\n       [183, 'Male', 46, 98, 15],\n       [184, 'Female', 29, 98, 88],\n       [185, 'Female', 41, 99, 39],\n       [186, 'Male', 30, 99, 97],\n       [187, 'Female', 54, 101, 24],\n       [188, 'Male', 28, 101, 68],\n       [189, 'Female', 41, 103, 17],\n       [190, 'Female', 36, 103, 85],\n       [191, 'Female', 34, 103, 23],\n       [192, 'Female', 32, 103, 69],\n       [193, 'Male', 33, 113, 8],\n       [194, 'Female', 38, 113, 91],\n       [195, 'Female', 47, 120, 16],\n       [196, 'Female', 35, 120, 79],\n       [197, 'Female', 45, 126, 28],\n       [198, 'Male', 32, 126, 74],\n       [199, 'Male', 32, 137, 18],\n       [200, 'Male', 30, 137, 83]], dtype=object)"
     },
     "execution_count": 5,
     "metadata": {},
     "output_type": "execute_result"
    }
   ],
   "source": [
    "data.to_numpy() "
   ],
   "metadata": {
    "collapsed": false,
    "ExecuteTime": {
     "end_time": "2023-12-20T10:08:03.539224600Z",
     "start_time": "2023-12-20T10:08:03.496838Z"
    }
   },
   "id": "431915549d35c976"
  },
  {
   "cell_type": "markdown",
   "source": [
    "Конвертация в объект numpy\n"
   ],
   "metadata": {
    "collapsed": false
   },
   "id": "c83e8d9030bb5d05"
  },
  {
   "cell_type": "code",
   "execution_count": 6,
   "outputs": [
    {
     "name": "stdout",
     "output_type": "stream",
     "text": [
      "       CustomerID         Age  Annual Income (k$)  Spending Score (1-100)\n",
      "count  200.000000  200.000000          200.000000              200.000000\n",
      "mean   100.500000   38.850000           60.560000               50.200000\n",
      "std     57.879185   13.969007           26.264721               25.823522\n",
      "min      1.000000   18.000000           15.000000                1.000000\n",
      "25%     50.750000   28.750000           41.500000               34.750000\n",
      "50%    100.500000   36.000000           61.500000               50.000000\n",
      "75%    150.250000   49.000000           78.000000               73.000000\n",
      "max    200.000000   70.000000          137.000000               99.000000\n"
     ]
    }
   ],
   "source": [
    "print(data.describe())"
   ],
   "metadata": {
    "collapsed": false,
    "ExecuteTime": {
     "end_time": "2023-12-20T10:10:11.988406700Z",
     "start_time": "2023-12-20T10:10:11.916695900Z"
    }
   },
   "id": "611d19d5fefddbb7"
  },
  {
   "cell_type": "markdown",
   "source": [
    "возвращает основные статистические показатели для каждого числового столбца"
   ],
   "metadata": {
    "collapsed": false
   },
   "id": "c831f32fff89371c"
  },
  {
   "cell_type": "code",
   "execution_count": 7,
   "outputs": [
    {
     "name": "stdout",
     "output_type": "stream",
     "text": [
      "CustomerID                200\n",
      "Genre                       2\n",
      "Age                        51\n",
      "Annual Income (k$)         64\n",
      "Spending Score (1-100)     84\n",
      "dtype: int64\n"
     ]
    }
   ],
   "source": [
    "print(data.nunique()) "
   ],
   "metadata": {
    "collapsed": false,
    "ExecuteTime": {
     "end_time": "2023-12-20T10:11:18.385539200Z",
     "start_time": "2023-12-20T10:11:18.283194200Z"
    }
   },
   "id": "1d98d0c0d8e92de7"
  },
  {
   "cell_type": "markdown",
   "source": [
    "подсчёт уникальных значений в каждом столбце"
   ],
   "metadata": {
    "collapsed": false
   },
   "id": "9bca3ed140ebd321"
  },
  {
   "cell_type": "code",
   "execution_count": 8,
   "outputs": [
    {
     "name": "stdout",
     "output_type": "stream",
     "text": [
      "[  1   2   3   4   5   6   7   8   9  10  11  12  13  14  15  16  17  18\n",
      "  19  20  21  22  23  24  25  26  27  28  29  30  31  32  33  34  35  36\n",
      "  37  38  39  40  41  42  43  44  45  46  47  48  49  50  51  52  53  54\n",
      "  55  56  57  58  59  60  61  62  63  64  65  66  67  68  69  70  71  72\n",
      "  73  74  75  76  77  78  79  80  81  82  83  84  85  86  87  88  89  90\n",
      "  91  92  93  94  95  96  97  98  99 100 101 102 103 104 105 106 107 108\n",
      " 109 110 111 112 113 114 115 116 117 118 119 120 121 122 123 124 125 126\n",
      " 127 128 129 130 131 132 133 134 135 136 137 138 139 140 141 142 143 144\n",
      " 145 146 147 148 149 150 151 152 153 154 155 156 157 158 159 160 161 162\n",
      " 163 164 165 166 167 168 169 170 171 172 173 174 175 176 177 178 179 180\n",
      " 181 182 183 184 185 186 187 188 189 190 191 192 193 194 195 196 197 198\n",
      " 199 200]\n"
     ]
    }
   ],
   "source": [
    "print(data[\"CustomerID\"].unique()) "
   ],
   "metadata": {
    "collapsed": false,
    "ExecuteTime": {
     "end_time": "2023-12-20T10:12:13.874450700Z",
     "start_time": "2023-12-20T10:12:13.844886600Z"
    }
   },
   "id": "a73fe80070c262ce"
  },
  {
   "cell_type": "markdown",
   "source": [
    "возвращает уникальные значения в порядке как в столбце"
   ],
   "metadata": {
    "collapsed": false
   },
   "id": "f1f833a851e2040f"
  },
  {
   "cell_type": "code",
   "execution_count": 9,
   "outputs": [
    {
     "name": "stdout",
     "output_type": "stream",
     "text": [
      "     CustomerID   Genre  Age  Annual Income (k$)  Spending Score (1-100)\n",
      "0             1    Male   19                  15                      39\n",
      "1             2    Male   21                  15                      81\n",
      "2             3  Female   20                  16                       6\n",
      "3             4  Female   23                  16                      77\n",
      "4             5  Female   31                  17                      40\n",
      "..          ...     ...  ...                 ...                     ...\n",
      "195         196  Female   35                 120                      79\n",
      "196         197  Female   45                 126                      28\n",
      "197         198    Male   32                 126                      74\n",
      "198         199    Male   32                 137                      18\n",
      "199         200    Male   30                 137                      83\n",
      "\n",
      "[200 rows x 5 columns]\n"
     ]
    }
   ],
   "source": [
    "print(data.drop_duplicates())  "
   ],
   "metadata": {
    "collapsed": false,
    "ExecuteTime": {
     "end_time": "2023-12-20T10:13:22.317112400Z",
     "start_time": "2023-12-20T10:13:22.265186200Z"
    }
   },
   "id": "9b0a345a5485261d"
  },
  {
   "cell_type": "markdown",
   "source": [
    "Удаление дубликатов"
   ],
   "metadata": {
    "collapsed": false
   },
   "id": "62996b3df722f280"
  },
  {
   "cell_type": "code",
   "execution_count": 10,
   "outputs": [
    {
     "name": "stdout",
     "output_type": "stream",
     "text": [
      "     CustomerID   Genre  Age  Annual Income (k$)  Spending Score (1-100)\n",
      "0             1    Male   19                  15                      39\n",
      "1             2    Male   21                  15                      81\n",
      "2             3  Female   20                  16                       6\n",
      "3             4  Female   23                  16                      77\n",
      "4             5  Female   31                  17                      40\n",
      "..          ...     ...  ...                 ...                     ...\n",
      "195         196  Female   35                 120                      79\n",
      "196         197  Female   45                 126                      28\n",
      "197         198    Male   32                 126                      74\n",
      "198         199    Male   32                 137                      18\n",
      "199         200    Male   30                 137                      83\n",
      "\n",
      "[200 rows x 5 columns]\n"
     ]
    }
   ],
   "source": [
    "print(data.sort_values(by=\"CustomerID\")) "
   ],
   "metadata": {
    "collapsed": false,
    "ExecuteTime": {
     "end_time": "2023-12-20T10:14:21.789727400Z",
     "start_time": "2023-12-20T10:14:21.762653300Z"
    }
   },
   "id": "96a771bc8d7c2a5d"
  },
  {
   "cell_type": "markdown",
   "source": [
    "сортирока значений по столбцу CustomerID"
   ],
   "metadata": {
    "collapsed": false
   },
   "id": "4bc2e68a546c8a39"
  },
  {
   "cell_type": "code",
   "execution_count": 11,
   "outputs": [
    {
     "name": "stdout",
     "output_type": "stream",
     "text": [
      "0        1\n",
      "1        2\n",
      "2        3\n",
      "3        4\n",
      "4        5\n",
      "      ... \n",
      "195    196\n",
      "196    197\n",
      "197    198\n",
      "198    199\n",
      "199    200\n",
      "Name: CustomerID, Length: 200, dtype: int64\n"
     ]
    }
   ],
   "source": [
    "print(data[\"CustomerID\"])  # Вывод CustomerID"
   ],
   "metadata": {
    "collapsed": false,
    "ExecuteTime": {
     "end_time": "2023-12-20T10:14:49.649602900Z",
     "start_time": "2023-12-20T10:14:49.614946400Z"
    }
   },
   "id": "5effdcb8a0bab343"
  },
  {
   "cell_type": "markdown",
   "source": [
    "Вывод CustomerID 5 первых и 5 последних "
   ],
   "metadata": {
    "collapsed": false
   },
   "id": "1977b2521c2d4888"
  },
  {
   "cell_type": "code",
   "execution_count": 12,
   "outputs": [
    {
     "name": "stdout",
     "output_type": "stream",
     "text": [
      "     CustomerID   Genre  Age  Annual Income (k$)  Spending Score (1-100)\n",
      "20           21    Male   35                  24                      35\n",
      "21           22    Male   25                  24                      73\n",
      "22           23  Female   46                  25                       5\n",
      "23           24    Male   31                  25                      73\n",
      "24           25  Female   54                  28                      14\n",
      "..          ...     ...  ...                 ...                     ...\n",
      "195         196  Female   35                 120                      79\n",
      "196         197  Female   45                 126                      28\n",
      "197         198    Male   32                 126                      74\n",
      "198         199    Male   32                 137                      18\n",
      "199         200    Male   30                 137                      83\n",
      "\n",
      "[180 rows x 5 columns]\n"
     ]
    }
   ],
   "source": [
    "print(data[data[\"CustomerID\"] > 20]) # вывод CustomerId  где значение больше 20"
   ],
   "metadata": {
    "collapsed": false,
    "ExecuteTime": {
     "end_time": "2023-12-20T10:15:28.958183900Z",
     "start_time": "2023-12-20T10:15:28.920467500Z"
    }
   },
   "id": "a3d393a242e0416a"
  },
  {
   "cell_type": "markdown",
   "source": [
    "вывод CustomerId  где значение больше 20"
   ],
   "metadata": {
    "collapsed": false
   },
   "id": "988caabcfbb22551"
  },
  {
   "cell_type": "code",
   "execution_count": 13,
   "outputs": [
    {
     "name": "stdout",
     "output_type": "stream",
     "text": [
      "(200, 5)\n"
     ]
    }
   ],
   "source": [
    "print(data.shape) # выводит кортеж размерность масива"
   ],
   "metadata": {
    "collapsed": false,
    "ExecuteTime": {
     "end_time": "2023-12-20T10:16:10.363888500Z",
     "start_time": "2023-12-20T10:16:10.319599600Z"
    }
   },
   "id": "9a240f0795d7b177"
  },
  {
   "cell_type": "markdown",
   "source": [
    "выводит кортеж размерность масива"
   ],
   "metadata": {
    "collapsed": false
   },
   "id": "c9259cee496899f4"
  },
  {
   "cell_type": "code",
   "execution_count": 14,
   "outputs": [
    {
     "name": "stdout",
     "output_type": "stream",
     "text": [
      "      Genre  Age  Annual Income (k$)  Spending Score (1-100)\n",
      "0      Male   19                  15                      39\n",
      "1      Male   21                  15                      81\n",
      "2    Female   20                  16                       6\n",
      "3    Female   23                  16                      77\n",
      "4    Female   31                  17                      40\n",
      "..      ...  ...                 ...                     ...\n",
      "195  Female   35                 120                      79\n",
      "196  Female   45                 126                      28\n",
      "197    Male   32                 126                      74\n",
      "198    Male   32                 137                      18\n",
      "199    Male   30                 137                      83\n",
      "\n",
      "[200 rows x 4 columns]\n"
     ]
    }
   ],
   "source": [
    "print(data.drop(columns=[\"CustomerID\"])) "
   ],
   "metadata": {
    "collapsed": false,
    "ExecuteTime": {
     "end_time": "2023-12-20T10:16:39.697224400Z",
     "start_time": "2023-12-20T10:16:39.641092Z"
    }
   },
   "id": "665acabec577b5a6"
  },
  {
   "cell_type": "markdown",
   "source": [
    "Удаляет коллону CustomerID"
   ],
   "metadata": {
    "collapsed": false
   },
   "id": "c245da9794e6df4c"
  },
  {
   "cell_type": "code",
   "execution_count": 15,
   "outputs": [
    {
     "name": "stdout",
     "output_type": "stream",
     "text": [
      "    CustomerID   Genre  Age  Annual Income (k$)  Spending Score (1-100)\n",
      "0           xz    Male   19                  15                      39\n",
      "1            2    Male   21                  15                      81\n",
      "2            3  Female   20                  16                       6\n",
      "3            4  Female   23                  16                      77\n",
      "4            5  Female   31                  17                      40\n",
      "..         ...     ...  ...                 ...                     ...\n",
      "195        196  Female   35                 120                      79\n",
      "196        197  Female   45                 126                      28\n",
      "197        198    Male   32                 126                      74\n",
      "198        199    Male   32                 137                      18\n",
      "199        200    Male   30                 137                      83\n",
      "\n",
      "[200 rows x 5 columns]\n"
     ]
    }
   ],
   "source": [
    "print(data.replace({\"CustomerID\":1},\"xz\"))"
   ],
   "metadata": {
    "collapsed": false,
    "ExecuteTime": {
     "end_time": "2023-12-20T10:17:38.929598100Z",
     "start_time": "2023-12-20T10:17:38.917920800Z"
    }
   },
   "id": "ccce62e6d0d65add"
  },
  {
   "cell_type": "markdown",
   "source": [
    "меняет значение customerID где  =1 на xz"
   ],
   "metadata": {
    "collapsed": false
   },
   "id": "66251c7d8d2e2553"
  },
  {
   "cell_type": "code",
   "execution_count": 16,
   "outputs": [
    {
     "name": "stdout",
     "output_type": "stream",
     "text": [
      "CustomerID                   1\n",
      "Genre                     Male\n",
      "Age                         19\n",
      "Annual Income (k$)          15\n",
      "Spending Score (1-100)      39\n",
      "Name: 0, dtype: object\n"
     ]
    }
   ],
   "source": [
    "print(data.loc[0]) \n"
   ],
   "metadata": {
    "collapsed": false,
    "ExecuteTime": {
     "end_time": "2023-12-20T10:17:55.627271700Z",
     "start_time": "2023-12-20T10:17:55.587764900Z"
    }
   },
   "id": "45764116255e1761"
  },
  {
   "cell_type": "markdown",
   "source": [
    "вывод данный по меткам"
   ],
   "metadata": {
    "collapsed": false
   },
   "id": "fdf4380f45e4e69e"
  },
  {
   "cell_type": "code",
   "execution_count": 17,
   "outputs": [
    {
     "name": "stdout",
     "output_type": "stream",
     "text": [
      "   CustomerID   Genre  Spending Score (1-100)\n",
      "0           1    Male                      39\n",
      "1           2    Male                      81\n",
      "2           3  Female                       6\n"
     ]
    }
   ],
   "source": [
    "print(data.loc[[0,1,2],['CustomerID','Genre','Spending Score (1-100)']]) "
   ],
   "metadata": {
    "collapsed": false,
    "ExecuteTime": {
     "end_time": "2023-12-20T10:18:25.825369400Z",
     "start_time": "2023-12-20T10:18:25.745806600Z"
    }
   },
   "id": "d38111b06fa5a5a3"
  },
  {
   "cell_type": "markdown",
   "source": [
    "вывод опред столбцов и сторок"
   ],
   "metadata": {
    "collapsed": false
   },
   "id": "5cbaeb3d65200383"
  },
  {
   "cell_type": "code",
   "execution_count": 18,
   "outputs": [
    {
     "name": "stdout",
     "output_type": "stream",
     "text": [
      "     CustomerID   Genre  Age  Annual Income (k$)  Spending Score (1-100)\n",
      "0             1    Male   19                  15                      39\n",
      "184         185  Female   41                  99                      39\n"
     ]
    }
   ],
   "source": [
    "print(data.loc[data['Spending Score (1-100)'] == 39])"
   ],
   "metadata": {
    "collapsed": false,
    "ExecuteTime": {
     "end_time": "2023-12-20T10:19:08.311110300Z",
     "start_time": "2023-12-20T10:19:08.266159900Z"
    }
   },
   "id": "e6bc237cdfcc9663"
  },
  {
   "cell_type": "markdown",
   "source": [
    "Сортировка строк по аргументу (вывод где spending score = 39)"
   ],
   "metadata": {
    "collapsed": false
   },
   "id": "b20c0506a76a14"
  },
  {
   "cell_type": "code",
   "execution_count": 19,
   "outputs": [
    {
     "name": "stdout",
     "output_type": "stream",
     "text": [
      "39\n"
     ]
    }
   ],
   "source": [
    "print(data.loc[0,\"Spending Score (1-100)\"]) "
   ],
   "metadata": {
    "collapsed": false,
    "ExecuteTime": {
     "end_time": "2023-12-20T10:20:14.601285900Z",
     "start_time": "2023-12-20T10:20:14.564649600Z"
    }
   },
   "id": "5b506240f17f2ff4"
  },
  {
   "cell_type": "markdown",
   "source": [
    "выбор опред ячейки данных"
   ],
   "metadata": {
    "collapsed": false
   },
   "id": "34c2c40946793457"
  },
  {
   "cell_type": "code",
   "execution_count": 20,
   "outputs": [],
   "source": [
    "data.loc[0,\"Genre\"] = 'Male'"
   ],
   "metadata": {
    "collapsed": false,
    "ExecuteTime": {
     "end_time": "2023-12-20T10:21:10.849466300Z",
     "start_time": "2023-12-20T10:21:10.782520500Z"
    }
   },
   "id": "a66f24d94d89b4cf"
  },
  {
   "cell_type": "markdown",
   "source": [
    "перезапись нулевой строки столбца Genre в значение male"
   ],
   "metadata": {
    "collapsed": false
   },
   "id": "fbbcc4399cae9001"
  },
  {
   "cell_type": "code",
   "execution_count": 21,
   "outputs": [
    {
     "name": "stdout",
     "output_type": "stream",
     "text": [
      "[[1, 'Male', 19, 15, 39], [2, 'Male', 21, 15, 81], [3, 'Female', 20, 16, 6], [4, 'Female', 23, 16, 77], [5, 'Female', 31, 17, 40], [6, 'Female', 22, 17, 76], [7, 'Female', 35, 18, 6], [8, 'Female', 23, 18, 94], [9, 'Male', 64, 19, 3], [10, 'Female', 30, 19, 72], [11, 'Male', 67, 19, 14], [12, 'Female', 35, 19, 99], [13, 'Female', 58, 20, 15], [14, 'Female', 24, 20, 77], [15, 'Male', 37, 20, 13], [16, 'Male', 22, 20, 79], [17, 'Female', 35, 21, 35], [18, 'Male', 20, 21, 66], [19, 'Male', 52, 23, 29], [20, 'Female', 35, 23, 98], [21, 'Male', 35, 24, 35], [22, 'Male', 25, 24, 73], [23, 'Female', 46, 25, 5], [24, 'Male', 31, 25, 73], [25, 'Female', 54, 28, 14], [26, 'Male', 29, 28, 82], [27, 'Female', 45, 28, 32], [28, 'Male', 35, 28, 61], [29, 'Female', 40, 29, 31], [30, 'Female', 23, 29, 87], [31, 'Male', 60, 30, 4], [32, 'Female', 21, 30, 73], [33, 'Male', 53, 33, 4], [34, 'Male', 18, 33, 92], [35, 'Female', 49, 33, 14], [36, 'Female', 21, 33, 81], [37, 'Female', 42, 34, 17], [38, 'Female', 30, 34, 73], [39, 'Female', 36, 37, 26], [40, 'Female', 20, 37, 75], [41, 'Female', 65, 38, 35], [42, 'Male', 24, 38, 92], [43, 'Male', 48, 39, 36], [44, 'Female', 31, 39, 61], [45, 'Female', 49, 39, 28], [46, 'Female', 24, 39, 65], [47, 'Female', 50, 40, 55], [48, 'Female', 27, 40, 47], [49, 'Female', 29, 40, 42], [50, 'Female', 31, 40, 42], [51, 'Female', 49, 42, 52], [52, 'Male', 33, 42, 60], [53, 'Female', 31, 43, 54], [54, 'Male', 59, 43, 60], [55, 'Female', 50, 43, 45], [56, 'Male', 47, 43, 41], [57, 'Female', 51, 44, 50], [58, 'Male', 69, 44, 46], [59, 'Female', 27, 46, 51], [60, 'Male', 53, 46, 46], [61, 'Male', 70, 46, 56], [62, 'Male', 19, 46, 55], [63, 'Female', 67, 47, 52], [64, 'Female', 54, 47, 59], [65, 'Male', 63, 48, 51], [66, 'Male', 18, 48, 59], [67, 'Female', 43, 48, 50], [68, 'Female', 68, 48, 48], [69, 'Male', 19, 48, 59], [70, 'Female', 32, 48, 47], [71, 'Male', 70, 49, 55], [72, 'Female', 47, 49, 42], [73, 'Female', 60, 50, 49], [74, 'Female', 60, 50, 56], [75, 'Male', 59, 54, 47], [76, 'Male', 26, 54, 54], [77, 'Female', 45, 54, 53], [78, 'Male', 40, 54, 48], [79, 'Female', 23, 54, 52], [80, 'Female', 49, 54, 42], [81, 'Male', 57, 54, 51], [82, 'Male', 38, 54, 55], [83, 'Male', 67, 54, 41], [84, 'Female', 46, 54, 44], [85, 'Female', 21, 54, 57], [86, 'Male', 48, 54, 46], [87, 'Female', 55, 57, 58], [88, 'Female', 22, 57, 55], [89, 'Female', 34, 58, 60], [90, 'Female', 50, 58, 46], [91, 'Female', 68, 59, 55], [92, 'Male', 18, 59, 41], [93, 'Male', 48, 60, 49], [94, 'Female', 40, 60, 40], [95, 'Female', 32, 60, 42], [96, 'Male', 24, 60, 52], [97, 'Female', 47, 60, 47], [98, 'Female', 27, 60, 50], [99, 'Male', 48, 61, 42], [100, 'Male', 20, 61, 49], [101, 'Female', 23, 62, 41], [102, 'Female', 49, 62, 48], [103, 'Male', 67, 62, 59], [104, 'Male', 26, 62, 55], [105, 'Male', 49, 62, 56], [106, 'Female', 21, 62, 42], [107, 'Female', 66, 63, 50], [108, 'Male', 54, 63, 46], [109, 'Male', 68, 63, 43], [110, 'Male', 66, 63, 48], [111, 'Male', 65, 63, 52], [112, 'Female', 19, 63, 54], [113, 'Female', 38, 64, 42], [114, 'Male', 19, 64, 46], [115, 'Female', 18, 65, 48], [116, 'Female', 19, 65, 50], [117, 'Female', 63, 65, 43], [118, 'Female', 49, 65, 59], [119, 'Female', 51, 67, 43], [120, 'Female', 50, 67, 57], [121, 'Male', 27, 67, 56], [122, 'Female', 38, 67, 40], [123, 'Female', 40, 69, 58], [124, 'Male', 39, 69, 91], [125, 'Female', 23, 70, 29], [126, 'Female', 31, 70, 77], [127, 'Male', 43, 71, 35], [128, 'Male', 40, 71, 95], [129, 'Male', 59, 71, 11], [130, 'Male', 38, 71, 75], [131, 'Male', 47, 71, 9], [132, 'Male', 39, 71, 75], [133, 'Female', 25, 72, 34], [134, 'Female', 31, 72, 71], [135, 'Male', 20, 73, 5], [136, 'Female', 29, 73, 88], [137, 'Female', 44, 73, 7], [138, 'Male', 32, 73, 73], [139, 'Male', 19, 74, 10], [140, 'Female', 35, 74, 72], [141, 'Female', 57, 75, 5], [142, 'Male', 32, 75, 93], [143, 'Female', 28, 76, 40], [144, 'Female', 32, 76, 87], [145, 'Male', 25, 77, 12], [146, 'Male', 28, 77, 97], [147, 'Male', 48, 77, 36], [148, 'Female', 32, 77, 74], [149, 'Female', 34, 78, 22], [150, 'Male', 34, 78, 90], [151, 'Male', 43, 78, 17], [152, 'Male', 39, 78, 88], [153, 'Female', 44, 78, 20], [154, 'Female', 38, 78, 76], [155, 'Female', 47, 78, 16], [156, 'Female', 27, 78, 89], [157, 'Male', 37, 78, 1], [158, 'Female', 30, 78, 78], [159, 'Male', 34, 78, 1], [160, 'Female', 30, 78, 73], [161, 'Female', 56, 79, 35], [162, 'Female', 29, 79, 83], [163, 'Male', 19, 81, 5], [164, 'Female', 31, 81, 93], [165, 'Male', 50, 85, 26], [166, 'Female', 36, 85, 75], [167, 'Male', 42, 86, 20], [168, 'Female', 33, 86, 95], [169, 'Female', 36, 87, 27], [170, 'Male', 32, 87, 63], [171, 'Male', 40, 87, 13], [172, 'Male', 28, 87, 75], [173, 'Male', 36, 87, 10], [174, 'Male', 36, 87, 92], [175, 'Female', 52, 88, 13], [176, 'Female', 30, 88, 86], [177, 'Male', 58, 88, 15], [178, 'Male', 27, 88, 69], [179, 'Male', 59, 93, 14], [180, 'Male', 35, 93, 90], [181, 'Female', 37, 97, 32], [182, 'Female', 32, 97, 86], [183, 'Male', 46, 98, 15], [184, 'Female', 29, 98, 88], [185, 'Female', 41, 99, 39], [186, 'Male', 30, 99, 97], [187, 'Female', 54, 101, 24], [188, 'Male', 28, 101, 68], [189, 'Female', 41, 103, 17], [190, 'Female', 36, 103, 85], [191, 'Female', 34, 103, 23], [192, 'Female', 32, 103, 69], [193, 'Male', 33, 113, 8], [194, 'Female', 38, 113, 91], [195, 'Female', 47, 120, 16], [196, 'Female', 35, 120, 79], [197, 'Female', 45, 126, 28], [198, 'Male', 32, 126, 74], [199, 'Male', 32, 137, 18], [200, 'Male', 30, 137, 83]]\n"
     ]
    }
   ],
   "source": [
    "\n",
    "print(data.values.tolist()) # преобразование в LIst"
   ],
   "metadata": {
    "collapsed": false,
    "ExecuteTime": {
     "end_time": "2023-12-20T10:23:01.822409300Z",
     "start_time": "2023-12-20T10:23:01.784045400Z"
    }
   },
   "id": "634ed829641e6c75"
  },
  {
   "cell_type": "markdown",
   "source": [
    "Все данные выводятся в виде листа в последовательности"
   ],
   "metadata": {
    "collapsed": false
   },
   "id": "6755dd2161affb5f"
  },
  {
   "cell_type": "code",
   "execution_count": null,
   "outputs": [],
   "source": [
    "data.to_csv(\"data.csv\",index=False) # Сохранение в лист"
   ],
   "metadata": {
    "collapsed": false
   },
   "id": "c87e17847e38867a"
  },
  {
   "cell_type": "markdown",
   "source": [
    "Сохранение !"
   ],
   "metadata": {
    "collapsed": false
   },
   "id": "bbcce5bfddfb6c1d"
  }
 ],
 "metadata": {
  "kernelspec": {
   "display_name": "Python 3",
   "language": "python",
   "name": "python3"
  },
  "language_info": {
   "codemirror_mode": {
    "name": "ipython",
    "version": 2
   },
   "file_extension": ".py",
   "mimetype": "text/x-python",
   "name": "python",
   "nbconvert_exporter": "python",
   "pygments_lexer": "ipython2",
   "version": "2.7.6"
  }
 },
 "nbformat": 4,
 "nbformat_minor": 5
}
